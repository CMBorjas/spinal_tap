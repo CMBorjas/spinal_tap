{
 "cells": [
  {
   "cell_type": "markdown",
   "id": "cb4653b2",
   "metadata": {},
   "source": [
    "# Pose"
   ]
  },
  {
   "cell_type": "markdown",
   "id": "94f775a7",
   "metadata": {},
   "source": [
    "## Imports"
   ]
  },
  {
   "cell_type": "markdown",
   "id": "635aad3f",
   "metadata": {},
   "source": []
  }
 ],
 "metadata": {
  "kernelspec": {
   "display_name": "opensim_scripting",
   "language": "python",
   "name": "python3"
  },
  "language_info": {
   "name": "python",
   "version": "3.11.11"
  }
 },
 "nbformat": 4,
 "nbformat_minor": 5
}
